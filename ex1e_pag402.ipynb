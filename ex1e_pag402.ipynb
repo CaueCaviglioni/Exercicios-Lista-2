{
  "nbformat": 4,
  "nbformat_minor": 0,
  "metadata": {
    "colab": {
      "name": "ex1e_pag402.ipynb",
      "provenance": [],
      "collapsed_sections": []
    },
    "kernelspec": {
      "name": "python3",
      "display_name": "Python 3"
    }
  },
  "cells": [
    {
      "cell_type": "code",
      "metadata": {
        "id": "NQQjBZUswHEe",
        "colab_type": "code",
        "colab": {
          "base_uri": "https://localhost:8080/",
          "height": 279
        },
        "outputId": "ae28a930-703f-4350-b75b-f2a22bed1387"
      },
      "source": [
        "# Capítulo 9, seção 9.1, página 402, exercício 1, letra 'e'\n",
        "# Gráfico de f(x)\n",
        "\n",
        "from matplotlib import pyplot as plt\n",
        "\n",
        "h = 0.01 # passo entre os pontos para plotar f(x)\n",
        "# Vetores que guardam os pontos 'x' e seus respectivos valores f(x)\n",
        "# para cada intervalo de f(x)\n",
        "X1, X2, X3 = [], [], []\n",
        "fx1, fx2, fx3 = [], [], [] \n",
        "x = 0\n",
        "while x <= 2:\n",
        "  if 0 <= x <= 1/2:\n",
        "    X1.append(x)\n",
        "    fx1.append(1)\n",
        "    x += h\n",
        "  elif 1/2 < x <= 3/2:\n",
        "    X2.append(x)\n",
        "    fx2.append(0)\n",
        "    x += h\n",
        "  else:\n",
        "    X3.append(x)\n",
        "    fx3.append(1/2)\n",
        "    x += h\n",
        "\n",
        "plt.plot(X1, fx1)\n",
        "plt.plot(X2, fx2)\n",
        "plt.plot(X3, fx3)\n",
        "plt.xlabel(\"x\")\n",
        "plt.ylabel(\"f(x)\")\n",
        "plt.grid(\"True\")\n",
        "plt.show()"
      ],
      "execution_count": 2,
      "outputs": [
        {
          "output_type": "display_data",
          "data": {
            "image/png": "[encoded data removed]",
            "text/plain": [
              "<Figure size 432x288 with 1 Axes>"
            ]
          },
          "metadata": {
            "tags": [],
            "needs_background": "light"
          }
        }
      ]
    }
  ]
}