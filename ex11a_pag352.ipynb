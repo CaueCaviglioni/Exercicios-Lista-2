{
  "nbformat": 4,
  "nbformat_minor": 0,
  "metadata": {
    "colab": {
      "name": "ex11a_pag352.ipynb",
      "provenance": [],
      "collapsed_sections": []
    },
    "kernelspec": {
      "name": "python3",
      "display_name": "Python 3"
    }
  },
  "cells": [
    {
      "cell_type": "code",
      "metadata": {
        "id": "C8Yt5-WnAJ1K",
        "colab_type": "code",
        "colab": {
          "base_uri": "https://localhost:8080/",
          "height": 52
        },
        "outputId": "63b5df8e-f821-4495-c365-bb9ffbf81396"
      },
      "source": [
        "# Capítulo 7, Seção 7.5, Exercício 11, letra 'a', página 352\n",
        "# Calcular projeção ortogonal de f(x) no subespaço e a distância entre eles\n",
        "# f(x) = x\n",
        "# Subespaço: W = {1,cos(x),sin(x)}\n",
        "\n",
        "import sympy as sp\n",
        "\n",
        "x = sp.symbols('x')\n",
        "f = x\n",
        "W = [1, sp.cos(x), sp.sin(x)]\n",
        "# Calculando a projeção: Proj_f = Σ(<f|Wi>/<Wi|Wi>)*Wi\n",
        "proj_f_em_W = 0\n",
        "for i in range(3):\n",
        "  proj_f_em_W += (sp.integrate(f*W[i], (x,-sp.pi,sp.pi))/sp.integrate(W[i]*W[i], (x,-sp.pi,sp.pi)))*W[i]\n",
        "print(\"Projeção de f(x) em W = \",proj_f_em_W)\n",
        "# Calculando a distância: ||d||^2 = ||f||^2 - ||proj_f||^2\n",
        "d = pow(sp.integrate(pow(f - proj_f_em_W, 2), (x,-sp.pi,sp.pi)),1/2)\n",
        "print(\"d = \",d)"
      ],
      "execution_count": 1,
      "outputs": [
        {
          "output_type": "stream",
          "text": [
            "Projeção de f(x) em W =  2*sin(x)\n",
            "d =  (-4*pi + 2*pi**3/3)**0.5\n"
          ],
          "name": "stdout"
        }
      ]
    }
  ]
}